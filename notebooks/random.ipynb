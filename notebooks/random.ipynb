{
 "cells": [
  {
   "attachments": {},
   "cell_type": "markdown",
   "metadata": {},
   "source": [
    "# Random\n",
    "\n",
    "A collection of random code I used throughout the project."
   ]
  },
  {
   "cell_type": "code",
   "execution_count": 1,
   "metadata": {},
   "outputs": [],
   "source": [
    "from os.path import dirname, join as pjoin\n",
    "import numpy as np\n",
    "import matplotlib.pyplot as plt\n",
    "from IPython.display import Image\n",
    "import json\n",
    "from pathlib import Path\n",
    "import re\n",
    "import os\n",
    "from fastai.vision.all import *\n",
    "from PIL import Image"
   ]
  },
  {
   "attachments": {},
   "cell_type": "markdown",
   "metadata": {},
   "source": [
    "## **Get file name of labeled images**ww"
   ]
  },
  {
   "cell_type": "code",
   "execution_count": 2,
   "metadata": {},
   "outputs": [],
   "source": [
    "path = Path(f'..\\data\\\\raw\\\\self-collected\\\\label-raw-data.json')\n",
    "\n",
    "raw_json_file = open(path)\n",
    "raw_json_data = json.load(raw_json_file)"
   ]
  },
  {
   "cell_type": "code",
   "execution_count": 3,
   "metadata": {},
   "outputs": [],
   "source": [
    "'''\n",
    "Functions to get the image file names from labelstudio json data\n",
    "'''\n",
    "def get_image_file_name(json_data):\n",
    "    return re.search(\"[^-]*$\", json_data['file_upload']).group(0)\n",
    "\n",
    "def get_all_image_file_names(json_data):\n",
    "    names = []\n",
    "    for data in json_data:\n",
    "        names.append(get_image_file_name(data))\n",
    "    return names"
   ]
  },
  {
   "cell_type": "code",
   "execution_count": 4,
   "metadata": {},
   "outputs": [],
   "source": [
    "names = get_all_image_file_names(raw_json_data)"
   ]
  },
  {
   "cell_type": "code",
   "execution_count": 14,
   "metadata": {},
   "outputs": [
    {
     "name": "stdout",
     "output_type": "stream",
     "text": [
      "264.jpg\n",
      "263.jpg\n",
      "261.jpg\n",
      "260.jpg\n",
      "256.jpg\n",
      "254.jpg\n",
      "250.jpg\n",
      "249.jpg\n",
      "246.jpg\n",
      "243.jpg\n",
      "242.jpg\n",
      "240.jpg\n",
      "237.jpg\n",
      "236.jpg\n",
      "235.jpg\n",
      "234.jpg\n",
      "231.jpg\n",
      "230.jpg\n",
      "228.jpg\n",
      "226.jpg\n",
      "225.jpg\n",
      "223.jpg\n",
      "222.jpg\n",
      "219.jpg\n",
      "217.jpg\n",
      "215.jpg\n",
      "213.jpg\n",
      "212.jpg\n",
      "208.jpg\n",
      "206.jpg\n",
      "204.jpg\n",
      "202.jpg\n",
      "201.jpg\n",
      "199.jpg\n",
      "197.jpg\n",
      "196.jpg\n",
      "195.jpg\n",
      "193.jpg\n",
      "191.jpg\n",
      "189.jpg\n",
      "188.jpg\n",
      "184.jpg\n",
      "183.jpg\n",
      "182.jpg\n",
      "181.jpg\n",
      "180.jpg\n",
      "177.jpg\n",
      "176.jpg\n",
      "174.jpg\n",
      "173.jpg\n",
      "171.jpg\n",
      "164.jpg\n",
      "163.jpg\n",
      "162.jpg\n",
      "159.jpg\n",
      "158.jpg\n",
      "155.jpg\n",
      "153.jpg\n",
      "152.jpg\n",
      "151.jpg\n",
      "150.jpg\n",
      "147.jpg\n",
      "146.jpg\n",
      "144.jpg\n",
      "143.jpg\n",
      "139.jpg\n"
     ]
    }
   ],
   "source": [
    "for name in names:\n",
    "    print(name)"
   ]
  },
  {
   "attachments": {},
   "cell_type": "markdown",
   "metadata": {},
   "source": [
    "---\n",
    "---\n",
    "---\n",
    "---"
   ]
  },
  {
   "attachments": {},
   "cell_type": "markdown",
   "metadata": {},
   "source": [
    "# **Change mask format to binary**"
   ]
  },
  {
   "cell_type": "code",
   "execution_count": 8,
   "metadata": {},
   "outputs": [],
   "source": [
    "label = 'trafo'\n",
    "local_path = 'O:\\Dataingeniør Bachelor\\\\6. Semester\\DAT255\\course-project'\n",
    "data_path = local_path + '/data/self-collected'\n",
    "mask_path = data_path + f'/labels/{label}'"
   ]
  },
  {
   "cell_type": "code",
   "execution_count": 6,
   "metadata": {},
   "outputs": [],
   "source": [
    "def fix_mask(mask):\n",
    "    '''\n",
    "    Replace all values that are closer to 0 than to 255 with 0\n",
    "    and all values that are closer to 255 than to 0 with 1\n",
    "    @param mask: the mask to fix\n",
    "    @return: the fixed mask\n",
    "    '''\n",
    "    mx_diff = 128\n",
    "    msk = np.array(mask)\n",
    "    for i in range(msk.shape[0]):\n",
    "        for j in range(msk.shape[1]):\n",
    "            if msk[i][j] >= mx_diff:\n",
    "                msk[i][j] = 0\n",
    "            elif msk[i][j] <= mx_diff:\n",
    "                msk[i][j] = 1\n",
    "    return PILMask.create(msk)\n",
    "\n",
    "def itter_over_files(path):\n",
    "    '''\n",
    "    itterates over a files in a directory\n",
    "    @param path: the path to the directory\n",
    "    '''\n",
    "    for f in os.listdir(path):\n",
    "        if os.path.isfile(os.path.join(path, f)):\n",
    "            mask = PILMask.create(os.path.join(path, f))\n",
    "            mask = fix_mask(mask)\n",
    "            mask.save(os.path.join(path, f), 'png')\n",
    "            "
   ]
  },
  {
   "cell_type": "code",
   "execution_count": 7,
   "metadata": {},
   "outputs": [],
   "source": [
    "itter_over_files(mask_path)"
   ]
  }
 ],
 "metadata": {
  "kernelspec": {
   "display_name": "Python 3",
   "language": "python",
   "name": "python3"
  },
  "language_info": {
   "codemirror_mode": {
    "name": "ipython",
    "version": 3
   },
   "file_extension": ".py",
   "mimetype": "text/x-python",
   "name": "python",
   "nbconvert_exporter": "python",
   "pygments_lexer": "ipython3",
   "version": "3.9.13"
  },
  "orig_nbformat": 4
 },
 "nbformat": 4,
 "nbformat_minor": 2
}
