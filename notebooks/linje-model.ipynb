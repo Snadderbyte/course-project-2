{
 "cells": [
  {
   "cell_type": "code",
   "execution_count": null,
   "metadata": {},
   "outputs": [],
   "source": [
    "import os\n",
    "from fastai.vision.all import *\n",
    "from fastcore.xtras import Path\n",
    "from fastai.data import *\n",
    "import fastai\n",
    "import torch\n",
    "import json\n"
   ]
  },
  {
   "cell_type": "code",
   "execution_count": null,
   "metadata": {},
   "outputs": [],
   "source": [
    "torch.cuda.is_available() # Check if GPU is available"
   ]
  },
  {
   "cell_type": "code",
   "execution_count": null,
   "metadata": {},
   "outputs": [],
   "source": [
    "# Enables IPython widgets\n",
    "from IPython.display import clear_output, DisplayHandle\n",
    "def update_patch(self, obj):\n",
    "    clear_output(wait=True)\n",
    "    self.display(obj)\n",
    "DisplayHandle.update = update_patch"
   ]
  },
  {
   "attachments": {},
   "cell_type": "markdown",
   "metadata": {},
   "source": [
    "### **Get all files**"
   ]
  },
  {
   "cell_type": "code",
   "execution_count": null,
   "metadata": {},
   "outputs": [],
   "source": [
    "label = 'linje'\n",
    "local_path = 'O:\\Dataingeniør Bachelor\\\\6. Semester\\DAT255\\course-project'\n",
    "data_path = local_path + '/data/self-collected'\n",
    "mask_path = data_path + f'/labels/{label}'\n",
    "image_path = data_path + f'/images'\n",
    "\n",
    "valid_path = data_path + f'/val/valid.txt'\n",
    "codes_path = data_path + f'/val/codes.json'\n",
    "\n",
    "def _get_file_names(path):\n",
    "    '''\n",
    "    @param path\n",
    "    @return list of filenames\n",
    "    '''\n",
    "    return [f for f in os.listdir(path) if os.path.isfile(os.path.join(path, f))]\n",
    "\n",
    "\n",
    "get_msk = lambda o: Path(f'{mask_path}\\\\{o}')\n",
    "get_img = lambda o: Path(f'{image_path}\\\\{o}')"
   ]
  },
  {
   "cell_type": "code",
   "execution_count": null,
   "metadata": {},
   "outputs": [],
   "source": [
    "imgs_fns = _get_file_names(image_path)\n",
    "valid_fns = Path(valid_path).read_text().split('\\n')\n",
    "\n",
    "codes = json.load(open(codes_path)).get(label)"
   ]
  },
  {
   "cell_type": "code",
   "execution_count": null,
   "metadata": {},
   "outputs": [],
   "source": [
    "# img_fn = imgs_fns[0]\n",
    "# mask = PILMask.create(get_msk(img_fn))\n",
    "# img = PILImage.create(image_path + '/' + img_fn)\n",
    "# mask.show()\n",
    "# img.show()\n",
    "# print(tensor(mask)[0])\n",
    "# print(mask)"
   ]
  },
  {
   "attachments": {},
   "cell_type": "markdown",
   "metadata": {},
   "source": [
    "Need binary mask.\n",
    "\n",
    "-> [random.ipynb](random.ipynb)\n",
    "\n",
    "Fixed"
   ]
  },
  {
   "cell_type": "code",
   "execution_count": null,
   "metadata": {},
   "outputs": [],
   "source": [
    "def _file_splitter(fn):\n",
    "    '''\n",
    "    File splitter for self defined validation set\n",
    "    @param fns: file path to .txt file with image names\n",
    "    '''\n",
    "    valid = Path(fn).read_text().split('\\n') \n",
    "    def _func(x): return x in valid\n",
    "    def _inner(a, **kawrgs): return FuncSplitter(_func)(a)\n",
    "    return _inner"
   ]
  },
  {
   "cell_type": "code",
   "execution_count": null,
   "metadata": {},
   "outputs": [],
   "source": [
    "linje = DataBlock(blocks=(ImageBlock, MaskBlock(codes)), \n",
    "    get_items=_get_file_names, \n",
    "    splitter= RandomSplitter(valid_pct=0.2),\n",
    "    get_y = get_msk,\n",
    "    get_x = get_img,\n",
    "    item_tfms=Resize(300, 200),\n",
    "    batch_tfms=[*aug_transforms(size=224, min_scale=0.75), Normalize.from_stats(*imagenet_stats, cuda=True)],)"
   ]
  },
  {
   "cell_type": "code",
   "execution_count": null,
   "metadata": {},
   "outputs": [],
   "source": [
    "dls = linje.dataloaders(source=image_path, device=torch.device('cuda'), bs=6)"
   ]
  },
  {
   "cell_type": "code",
   "execution_count": null,
   "metadata": {},
   "outputs": [],
   "source": [
    "dls.show_batch(figsize=(10, 10))"
   ]
  },
  {
   "cell_type": "code",
   "execution_count": null,
   "metadata": {},
   "outputs": [],
   "source": [
    "learn = unet_learner(dls, arch=resnet18, pretrained=True)"
   ]
  },
  {
   "cell_type": "code",
   "execution_count": null,
   "metadata": {},
   "outputs": [],
   "source": [
    "learn.fine_tune(100)"
   ]
  },
  {
   "cell_type": "code",
   "execution_count": null,
   "metadata": {},
   "outputs": [],
   "source": [
    "learn.save(\"unet-resnet-18-linje-100-epochs\", with_opt=True)"
   ]
  },
  {
   "cell_type": "code",
   "execution_count": null,
   "metadata": {},
   "outputs": [],
   "source": [
    "preds = learn.get_preds()\n",
    "p = preds[0][0]"
   ]
  },
  {
   "cell_type": "code",
   "execution_count": null,
   "metadata": {},
   "outputs": [],
   "source": [
    "plt.imshow(p[0])"
   ]
  },
  {
   "cell_type": "code",
   "execution_count": null,
   "metadata": {},
   "outputs": [],
   "source": [
    "plt.imshow(p[1])"
   ]
  },
  {
   "cell_type": "code",
   "execution_count": null,
   "metadata": {},
   "outputs": [],
   "source": [
    "learn.show_results(cmap='Blues', vmin=0, vmax=2)"
   ]
  },
  {
   "cell_type": "code",
   "execution_count": null,
   "metadata": {},
   "outputs": [],
   "source": [
    "setup_cuda(benchmark=True)"
   ]
  },
  {
   "cell_type": "code",
   "execution_count": null,
   "metadata": {},
   "outputs": [],
   "source": [
    "torch.cuda.empty_cache()"
   ]
  }
 ],
 "metadata": {
  "kernelspec": {
   "display_name": "Python 3",
   "language": "python",
   "name": "python3"
  },
  "language_info": {
   "codemirror_mode": {
    "name": "ipython",
    "version": 3
   },
   "file_extension": ".py",
   "mimetype": "text/x-python",
   "name": "python",
   "nbconvert_exporter": "python",
   "pygments_lexer": "ipython3",
   "version": "3.9.13"
  },
  "orig_nbformat": 4
 },
 "nbformat": 4,
 "nbformat_minor": 2
}
